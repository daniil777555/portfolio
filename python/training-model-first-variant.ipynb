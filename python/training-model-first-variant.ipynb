{
 "cells": [
  {
   "cell_type": "code",
   "execution_count": 4,
   "metadata": {},
   "outputs": [
    {
     "data": {
      "text/plain": [
       "array(['Acoustic', 'Jazz', 'Dance', 'Classical'], dtype=object)"
      ]
     },
     "execution_count": 4,
     "metadata": {},
     "output_type": "execute_result"
    }
   ],
   "source": [
    "# import joblib\n",
    "import pandas as pd\n",
    "from sklearn.tree import DecisionTreeClassifier\n",
    "from sklearn.model_selection import train_test_split\n",
    "# from sklearn.metrics import accuracy_score\n",
    "\n",
    "\n",
    "msc_data = pd.read_csv('music.csv')\n",
    "X = msc_data.drop(columns=['genre'])\n",
    "y = msc_data['genre']\n",
    "X_train, X_test, y_train, y_test = train_test_split(X, y, test_size=0.2)\n",
    "\n",
    "model = DecisionTreeClassifier()\n",
    "# model.fit(X, y)\n",
    "model.fit(X_train, y_train)\n",
    "# joblib.dump(model, 'music-model.joblib')\n",
    "# model = joblib.load('music-model.joblib')\n",
    "\n",
    "# predictions = model.predict([ [21, 1] ])\n",
    "predictions = model.predict(X_test)\n",
    "# score = accuracy_score(y_test, predictions)\n",
    "# score\n",
    "predictions"
   ]
  }
 ],
 "metadata": {
  "kernelspec": {
   "display_name": "Python 3",
   "language": "python",
   "name": "python3"
  },
  "language_info": {
   "codemirror_mode": {
    "name": "ipython",
    "version": 3
   },
   "file_extension": ".py",
   "mimetype": "text/x-python",
   "name": "python",
   "nbconvert_exporter": "python",
   "pygments_lexer": "ipython3",
   "version": "3.11.0"
  },
  "orig_nbformat": 4
 },
 "nbformat": 4,
 "nbformat_minor": 2
}
