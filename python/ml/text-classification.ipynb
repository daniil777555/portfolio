{
 "cells": [
  {
   "cell_type": "code",
   "execution_count": 8,
   "metadata": {},
   "outputs": [],
   "source": [
    "import pandas as pd\n",
    "import numpy as np\n",
    "import matplotlib.pyplot as plt\n",
    "\n",
    "import tensorflow as tf\n",
    "import tensorflow_hub as hub"
   ]
  },
  {
   "cell_type": "code",
   "execution_count": 9,
   "metadata": {},
   "outputs": [
    {
     "data": {
      "text/html": [
       "<div>\n",
       "<style scoped>\n",
       "    .dataframe tbody tr th:only-of-type {\n",
       "        vertical-align: middle;\n",
       "    }\n",
       "\n",
       "    .dataframe tbody tr th {\n",
       "        vertical-align: top;\n",
       "    }\n",
       "\n",
       "    .dataframe thead th {\n",
       "        text-align: right;\n",
       "    }\n",
       "</style>\n",
       "<table border=\"1\" class=\"dataframe\">\n",
       "  <thead>\n",
       "    <tr style=\"text-align: right;\">\n",
       "      <th></th>\n",
       "      <th>country</th>\n",
       "      <th>description</th>\n",
       "      <th>points</th>\n",
       "      <th>price</th>\n",
       "      <th>variety</th>\n",
       "      <th>winery</th>\n",
       "    </tr>\n",
       "  </thead>\n",
       "  <tbody>\n",
       "    <tr>\n",
       "      <th>0</th>\n",
       "      <td>Italy</td>\n",
       "      <td>Aromas include tropical fruit, broom, brimston...</td>\n",
       "      <td>87</td>\n",
       "      <td>NaN</td>\n",
       "      <td>White Blend</td>\n",
       "      <td>Nicosia</td>\n",
       "    </tr>\n",
       "    <tr>\n",
       "      <th>1</th>\n",
       "      <td>Portugal</td>\n",
       "      <td>This is ripe and fruity, a wine that is smooth...</td>\n",
       "      <td>87</td>\n",
       "      <td>15.0</td>\n",
       "      <td>Portuguese Red</td>\n",
       "      <td>Quinta dos Avidagos</td>\n",
       "    </tr>\n",
       "    <tr>\n",
       "      <th>2</th>\n",
       "      <td>US</td>\n",
       "      <td>Tart and snappy, the flavors of lime flesh and...</td>\n",
       "      <td>87</td>\n",
       "      <td>14.0</td>\n",
       "      <td>Pinot Gris</td>\n",
       "      <td>Rainstorm</td>\n",
       "    </tr>\n",
       "    <tr>\n",
       "      <th>3</th>\n",
       "      <td>US</td>\n",
       "      <td>Pineapple rind, lemon pith and orange blossom ...</td>\n",
       "      <td>87</td>\n",
       "      <td>13.0</td>\n",
       "      <td>Riesling</td>\n",
       "      <td>St. Julian</td>\n",
       "    </tr>\n",
       "    <tr>\n",
       "      <th>4</th>\n",
       "      <td>US</td>\n",
       "      <td>Much like the regular bottling from 2012, this...</td>\n",
       "      <td>87</td>\n",
       "      <td>65.0</td>\n",
       "      <td>Pinot Noir</td>\n",
       "      <td>Sweet Cheeks</td>\n",
       "    </tr>\n",
       "  </tbody>\n",
       "</table>\n",
       "</div>"
      ],
      "text/plain": [
       "    country                                        description  points  price  \\\n",
       "0     Italy  Aromas include tropical fruit, broom, brimston...      87    NaN   \n",
       "1  Portugal  This is ripe and fruity, a wine that is smooth...      87   15.0   \n",
       "2        US  Tart and snappy, the flavors of lime flesh and...      87   14.0   \n",
       "3        US  Pineapple rind, lemon pith and orange blossom ...      87   13.0   \n",
       "4        US  Much like the regular bottling from 2012, this...      87   65.0   \n",
       "\n",
       "          variety               winery  \n",
       "0     White Blend              Nicosia  \n",
       "1  Portuguese Red  Quinta dos Avidagos  \n",
       "2      Pinot Gris            Rainstorm  \n",
       "3        Riesling           St. Julian  \n",
       "4      Pinot Noir         Sweet Cheeks  "
      ]
     },
     "execution_count": 9,
     "metadata": {},
     "output_type": "execute_result"
    }
   ],
   "source": [
    "df = pd.read_csv('wine-reviews.csv', usecols=['country', 'description', 'points', 'price', 'variety', 'winery'])\n",
    "df = df.dropna(subset=['description', 'points'])\n",
    "df.head()"
   ]
  },
  {
   "cell_type": "code",
   "execution_count": 10,
   "metadata": {},
   "outputs": [
    {
     "data": {
      "image/png": "[encoded data removed]",
      "text/plain": [
       "<Figure size 640x480 with 1 Axes>"
      ]
     },
     "metadata": {},
     "output_type": "display_data"
    }
   ],
   "source": [
    "plt.hist(df.points, bins=20)\n",
    "plt.show()"
   ]
  },
  {
   "cell_type": "code",
   "execution_count": 11,
   "metadata": {},
   "outputs": [
    {
     "data": {
      "text/html": [
       "<div>\n",
       "<style scoped>\n",
       "    .dataframe tbody tr th:only-of-type {\n",
       "        vertical-align: middle;\n",
       "    }\n",
       "\n",
       "    .dataframe tbody tr th {\n",
       "        vertical-align: top;\n",
       "    }\n",
       "\n",
       "    .dataframe thead th {\n",
       "        text-align: right;\n",
       "    }\n",
       "</style>\n",
       "<table border=\"1\" class=\"dataframe\">\n",
       "  <thead>\n",
       "    <tr style=\"text-align: right;\">\n",
       "      <th></th>\n",
       "      <th>description</th>\n",
       "      <th>points</th>\n",
       "      <th>label</th>\n",
       "    </tr>\n",
       "  </thead>\n",
       "  <tbody>\n",
       "    <tr>\n",
       "      <th>0</th>\n",
       "      <td>Aromas include tropical fruit, broom, brimston...</td>\n",
       "      <td>87</td>\n",
       "      <td>0</td>\n",
       "    </tr>\n",
       "    <tr>\n",
       "      <th>1</th>\n",
       "      <td>This is ripe and fruity, a wine that is smooth...</td>\n",
       "      <td>87</td>\n",
       "      <td>0</td>\n",
       "    </tr>\n",
       "    <tr>\n",
       "      <th>2</th>\n",
       "      <td>Tart and snappy, the flavors of lime flesh and...</td>\n",
       "      <td>87</td>\n",
       "      <td>0</td>\n",
       "    </tr>\n",
       "    <tr>\n",
       "      <th>3</th>\n",
       "      <td>Pineapple rind, lemon pith and orange blossom ...</td>\n",
       "      <td>87</td>\n",
       "      <td>0</td>\n",
       "    </tr>\n",
       "    <tr>\n",
       "      <th>4</th>\n",
       "      <td>Much like the regular bottling from 2012, this...</td>\n",
       "      <td>87</td>\n",
       "      <td>0</td>\n",
       "    </tr>\n",
       "  </tbody>\n",
       "</table>\n",
       "</div>"
      ],
      "text/plain": [
       "                                         description  points  label\n",
       "0  Aromas include tropical fruit, broom, brimston...      87      0\n",
       "1  This is ripe and fruity, a wine that is smooth...      87      0\n",
       "2  Tart and snappy, the flavors of lime flesh and...      87      0\n",
       "3  Pineapple rind, lemon pith and orange blossom ...      87      0\n",
       "4  Much like the regular bottling from 2012, this...      87      0"
      ]
     },
     "execution_count": 11,
     "metadata": {},
     "output_type": "execute_result"
    }
   ],
   "source": [
    "df['label'] = (df.points >= 90).astype(int)\n",
    "df = df[['description','label']]\n",
    "df.head()"
   ]
  },
  {
   "cell_type": "code",
   "execution_count": 12,
   "metadata": {},
   "outputs": [],
   "source": [
    "train, val, test = np.split(df.sample(frac=1), [int(0.8 * len(df)), int(0.9 * len(df))])"
   ]
  },
  {
   "cell_type": "code",
   "execution_count": 13,
   "metadata": {},
   "outputs": [],
   "source": [
    "# df to dataset\n",
    "def df_to_dataset(df, shuffle=True, batch_size=1024):\n",
    "    df = df.copy()\n",
    "    labels = df.pop('label')\n",
    "    df = df['description']\n",
    "    ds = tf.data.Dataset.from_tensor_slices((df, labels))\n",
    "    if shuffle:\n",
    "        ds = ds.shuffle(buffer_size=len(df))\n",
    "    ds = ds.batch(batch_size)\n",
    "    ds = ds.prefetch(tf.data.AUTOTUNE)\n",
    "    return ds"
   ]
  },
  {
   "cell_type": "code",
   "execution_count": 14,
   "metadata": {},
   "outputs": [],
   "source": [
    "train_data = df_to_dataset(train)\n",
    "val_data = df_to_dataset(val)\n",
    "test_data = df_to_dataset(test)"
   ]
  },
  {
   "cell_type": "code",
   "execution_count": 15,
   "metadata": {},
   "outputs": [],
   "source": [
    "embedding = 'https://tfhub.dev/google/nnlm-en-dim50/2'\n",
    "hub_layer = hub.KerasLayer(embedding, dtype=tf.string, trainable=True)"
   ]
  },
  {
   "cell_type": "code",
   "execution_count": 16,
   "metadata": {},
   "outputs": [
    {
     "data": {
      "text/plain": [
       "<tf.Tensor: shape=(1024, 50), dtype=float32, numpy=\n",
       "array([[ 0.49137688, -0.04103763,  0.2289691 , ..., -0.13959178,\n",
       "        -0.1096576 , -0.07856172],\n",
       "       [ 0.1730817 , -0.28096035,  0.09439368, ..., -0.3049483 ,\n",
       "        -0.227349  ,  0.1721902 ],\n",
       "       [ 0.3519924 , -0.29346374,  0.08300483, ...,  0.07821645,\n",
       "        -0.15949194, -0.05450796],\n",
       "       ...,\n",
       "       [ 0.48564684, -0.23631565, -0.05616054, ...,  0.13483314,\n",
       "        -0.14207897, -0.11570604],\n",
       "       [ 0.32397735,  0.13062961,  0.05182326, ...,  0.06834196,\n",
       "        -0.44402987,  0.17222066],\n",
       "       [ 0.34613782, -0.23701133,  0.06228303, ..., -0.10175777,\n",
       "        -0.06378816,  0.05116463]], dtype=float32)>"
      ]
     },
     "execution_count": 16,
     "metadata": {},
     "output_type": "execute_result"
    }
   ],
   "source": [
    "hub_layer(list(train_data)[0][0])"
   ]
  },
  {
   "cell_type": "code",
   "execution_count": 17,
   "metadata": {},
   "outputs": [],
   "source": [
    "model = tf.keras.Sequential()\n",
    "model.add(hub_layer)\n",
    "model.add(tf.keras.layers.Dense(16, activation='relu'))\n",
    "model.add(tf.keras.layers.Dropout(0.4))\n",
    "model.add(tf.keras.layers.Dense(16, activation='relu'))\n",
    "model.add(tf.keras.layers.Dropout(0.4))\n",
    "model.add(tf.keras.layers.Dense(1, activation='sigmoid'))"
   ]
  },
  {
   "cell_type": "code",
   "execution_count": 18,
   "metadata": {},
   "outputs": [],
   "source": [
    "model.compile(optimizer=tf.keras.optimizers.Adam(learning_rate=0.001), loss=tf.keras.losses.BinaryCrossentropy(), metrics=['accuracy'])"
   ]
  },
  {
   "cell_type": "code",
   "execution_count": 20,
   "metadata": {},
   "outputs": [
    {
     "name": "stdout",
     "output_type": "stream",
     "text": [
      "Epoch 1/20\n"
     ]
    },
    {
     "name": "stdout",
     "output_type": "stream",
     "text": [
      "102/102 [==============================] - 74s 699ms/step - loss: 0.5959 - accuracy: 0.6700 - val_loss: 0.4426 - val_accuracy: 0.7948\n",
      "Epoch 2/20\n",
      "102/102 [==============================] - 57s 558ms/step - loss: 0.3833 - accuracy: 0.8245 - val_loss: 0.3795 - val_accuracy: 0.8253\n",
      "Epoch 3/20\n",
      "102/102 [==============================] - 57s 556ms/step - loss: 0.3334 - accuracy: 0.8511 - val_loss: 0.3714 - val_accuracy: 0.8300\n",
      "Epoch 4/20\n",
      "102/102 [==============================] - 56s 551ms/step - loss: 0.3078 - accuracy: 0.8657 - val_loss: 0.3738 - val_accuracy: 0.8293\n",
      "Epoch 5/20\n",
      "102/102 [==============================] - 57s 555ms/step - loss: 0.2892 - accuracy: 0.8754 - val_loss: 0.3783 - val_accuracy: 0.8293\n",
      "Epoch 6/20\n",
      "102/102 [==============================] - 56s 552ms/step - loss: 0.2728 - accuracy: 0.8836 - val_loss: 0.3900 - val_accuracy: 0.8299\n",
      "Epoch 7/20\n",
      "102/102 [==============================] - 57s 562ms/step - loss: 0.2593 - accuracy: 0.8904 - val_loss: 0.3933 - val_accuracy: 0.8287\n",
      "Epoch 8/20\n",
      "102/102 [==============================] - 57s 555ms/step - loss: 0.2468 - accuracy: 0.8983 - val_loss: 0.3984 - val_accuracy: 0.8310\n",
      "Epoch 9/20\n",
      "102/102 [==============================] - 57s 553ms/step - loss: 0.2337 - accuracy: 0.9046 - val_loss: 0.4100 - val_accuracy: 0.8317\n",
      "Epoch 10/20\n",
      "102/102 [==============================] - 57s 559ms/step - loss: 0.2215 - accuracy: 0.9101 - val_loss: 0.4165 - val_accuracy: 0.8320\n",
      "Epoch 11/20\n",
      "102/102 [==============================] - 56s 550ms/step - loss: 0.2079 - accuracy: 0.9168 - val_loss: 0.4285 - val_accuracy: 0.8317\n",
      "Epoch 12/20\n",
      "102/102 [==============================] - 56s 549ms/step - loss: 0.1952 - accuracy: 0.9233 - val_loss: 0.4383 - val_accuracy: 0.8296\n",
      "Epoch 13/20\n",
      "102/102 [==============================] - 67s 657ms/step - loss: 0.1809 - accuracy: 0.9309 - val_loss: 0.4495 - val_accuracy: 0.8286\n",
      "Epoch 14/20\n",
      "102/102 [==============================] - 74s 722ms/step - loss: 0.1661 - accuracy: 0.9378 - val_loss: 0.4737 - val_accuracy: 0.8287\n",
      "Epoch 15/20\n",
      "102/102 [==============================] - 67s 655ms/step - loss: 0.1509 - accuracy: 0.9447 - val_loss: 0.4965 - val_accuracy: 0.8265\n",
      "Epoch 16/20\n",
      "102/102 [==============================] - 56s 549ms/step - loss: 0.1357 - accuracy: 0.9517 - val_loss: 0.5232 - val_accuracy: 0.8261\n",
      "Epoch 17/20\n",
      "102/102 [==============================] - 61s 601ms/step - loss: 0.1198 - accuracy: 0.9588 - val_loss: 0.5467 - val_accuracy: 0.8251\n",
      "Epoch 18/20\n",
      "102/102 [==============================] - 76s 745ms/step - loss: 0.1061 - accuracy: 0.9650 - val_loss: 0.5875 - val_accuracy: 0.8207\n",
      "Epoch 19/20\n",
      "102/102 [==============================] - 76s 746ms/step - loss: 0.0928 - accuracy: 0.9709 - val_loss: 0.6226 - val_accuracy: 0.8237\n",
      "Epoch 20/20\n",
      "102/102 [==============================] - 71s 699ms/step - loss: 0.0808 - accuracy: 0.9757 - val_loss: 0.6696 - val_accuracy: 0.8216\n"
     ]
    }
   ],
   "source": [
    "history = model.fit(train_data, validation_data=val_data, epochs=20)"
   ]
  },
  {
   "cell_type": "code",
   "execution_count": 22,
   "metadata": {},
   "outputs": [
    {
     "name": "stdout",
     "output_type": "stream",
     "text": [
      "13/13 [==============================] - 1s 68ms/step - loss: 0.6418 - accuracy: 0.8277\n"
     ]
    },
    {
     "data": {
      "text/plain": [
       "[0.641771674156189, 0.8277427554130554]"
      ]
     },
     "execution_count": 22,
     "metadata": {},
     "output_type": "execute_result"
    }
   ],
   "source": [
    "model.evaluate(test_data)"
   ]
  },
  {
   "cell_type": "markdown",
   "metadata": {},
   "source": [
    "LSTM"
   ]
  },
  {
   "cell_type": "code",
   "execution_count": 23,
   "metadata": {},
   "outputs": [],
   "source": [
    "encoder = tf.keras.layers.TextVectorization(max_tokens=2000)\n",
    "encoder.adapt(train_data.map(lambda text, label: text))"
   ]
  },
  {
   "cell_type": "code",
   "execution_count": null,
   "metadata": {},
   "outputs": [],
   "source": [
    "vocab = np.array(encoder.get_vocabulary())"
   ]
  },
  {
   "cell_type": "code",
   "execution_count": 24,
   "metadata": {},
   "outputs": [],
   "source": [
    "model = tf.keras.Sequential([\n",
    "    encoder,\n",
    "    tf.keras.layers.Embedding(\n",
    "        input_dim=len(encoder.get_vocabulary()),\n",
    "        output_dim=32,\n",
    "        mask_zero=True\n",
    "    ),\n",
    "    tf.keras.layers.LSTM(32),\n",
    "    tf.keras.layers.Dense(32, activation='relu'),\n",
    "    tf.keras.layers.Dropout(0.4),\n",
    "    tf.keras.layers.Dense(1, activation='sigmoid')\n",
    "])"
   ]
  },
  {
   "cell_type": "code",
   "execution_count": 26,
   "metadata": {},
   "outputs": [],
   "source": [
    "model.compile(optimizer=tf.keras.optimizers.Adam(learning_rate=0.001),\n",
    "              loss=tf.keras.losses.BinaryCrossentropy(),\n",
    "              metrics=['accuracy'])"
   ]
  },
  {
   "cell_type": "code",
   "execution_count": 27,
   "metadata": {},
   "outputs": [
    {
     "name": "stdout",
     "output_type": "stream",
     "text": [
      "Epoch 1/5\n",
      "102/102 [==============================] - 56s 451ms/step - loss: 0.5573 - accuracy: 0.7023 - val_loss: 0.3863 - val_accuracy: 0.8213\n",
      "Epoch 2/5\n",
      "102/102 [==============================] - 45s 440ms/step - loss: 0.3693 - accuracy: 0.8348 - val_loss: 0.3570 - val_accuracy: 0.8372\n",
      "Epoch 3/5\n",
      "102/102 [==============================] - 39s 376ms/step - loss: 0.3494 - accuracy: 0.8450 - val_loss: 0.3571 - val_accuracy: 0.8372\n",
      "Epoch 4/5\n",
      "102/102 [==============================] - 33s 323ms/step - loss: 0.3415 - accuracy: 0.8476 - val_loss: 0.3524 - val_accuracy: 0.8385\n",
      "Epoch 5/5\n",
      "102/102 [==============================] - 33s 321ms/step - loss: 0.3367 - accuracy: 0.8515 - val_loss: 0.3534 - val_accuracy: 0.8373\n"
     ]
    }
   ],
   "source": [
    "history = model.fit(train_data, validation_data=val_data, epochs=5)"
   ]
  },
  {
   "cell_type": "code",
   "execution_count": 28,
   "metadata": {},
   "outputs": [
    {
     "name": "stdout",
     "output_type": "stream",
     "text": [
      "13/13 [==============================] - 2s 146ms/step - loss: 0.3410 - accuracy: 0.8441\n"
     ]
    },
    {
     "data": {
      "text/plain": [
       "[0.34102728962898254, 0.8440529108047485]"
      ]
     },
     "execution_count": 28,
     "metadata": {},
     "output_type": "execute_result"
    }
   ],
   "source": [
    "model.evaluate(test_data)"
   ]
  }
 ],
 "metadata": {
  "kernelspec": {
   "display_name": "Python 3",
   "language": "python",
   "name": "python3"
  },
  "language_info": {
   "codemirror_mode": {
    "name": "ipython",
    "version": 3
   },
   "file_extension": ".py",
   "mimetype": "text/x-python",
   "name": "python",
   "nbconvert_exporter": "python",
   "pygments_lexer": "ipython3",
   "version": "3.11.0"
  },
  "orig_nbformat": 4
 },
 "nbformat": 4,
 "nbformat_minor": 2
}
