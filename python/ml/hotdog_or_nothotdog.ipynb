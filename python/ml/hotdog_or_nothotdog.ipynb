{
 "cells": [
  {
   "cell_type": "code",
   "execution_count": 55,
   "metadata": {},
   "outputs": [],
   "source": [
    "import numpy as np\n",
    "import pandas as pd\n",
    "import matplotlib.pyplot as plt\n",
    "import random\n",
    "import tensorflow as tf\n",
    "from tensorflow.keras import datasets, layers, models\n",
    "\n",
    "import tensorflow_datasets as tfds"
   ]
  },
  {
   "cell_type": "code",
   "execution_count": 56,
   "metadata": {},
   "outputs": [],
   "source": [
    "ds, ds_info = tfds.load('food101', shuffle_files=True, as_supervised=True, with_info=True) # type: ignore"
   ]
  },
  {
   "cell_type": "code",
   "execution_count": 57,
   "metadata": {},
   "outputs": [],
   "source": [
    "train_ds, valid_ds = ds['train'], ds['validation'] # type: ignore\n"
   ]
  },
  {
   "cell_type": "code",
   "execution_count": 58,
   "metadata": {},
   "outputs": [],
   "source": [
    "MAX_SIZE = 128\n",
    "HOTDOG_CLASS = 55\n",
    "\n",
    "train_ds = train_ds.map(\n",
    "    lambda image, label: (\n",
    "        tf.cast(tf.image.resize(image, [MAX_SIZE, MAX_SIZE]),\n",
    "                dtype=tf.int32),\n",
    "        tf.cast(label == HOTDOG_CLASS, dtype=tf.int32)\n",
    "    )\n",
    ")\n",
    "\n",
    "valid_ds = valid_ds.map(\n",
    "    lambda image, label: (\n",
    "        tf.cast(tf.image.resize(image, [MAX_SIZE, MAX_SIZE]),\n",
    "                dtype=tf.int32),\n",
    "        tf.cast(label == HOTDOG_CLASS, dtype=tf.int32)\n",
    "    )\n",
    ")"
   ]
  },
  {
   "cell_type": "code",
   "execution_count": 59,
   "metadata": {},
   "outputs": [],
   "source": [
    "train_hd_size, valid_hd_size = 750, 250\n",
    "train_hotdogs = train_ds.filter(lambda _image, label: label == 1).repeat(3)\n",
    "train_nothotdogs = train_ds.filter(lambda _image, label: label == 0)"
   ]
  },
  {
   "cell_type": "code",
   "execution_count": 60,
   "metadata": {},
   "outputs": [],
   "source": [
    "valid_hotdogs = valid_ds.filter(lambda _image, label: label == 1).repeat(3)\n",
    "valid_nothotdogs = valid_ds.filter(lambda _image, label: label == 0)"
   ]
  },
  {
   "cell_type": "code",
   "execution_count": 61,
   "metadata": {},
   "outputs": [],
   "source": [
    "batch_size = 16\n",
    "\n",
    "train_ds = tf.data.Dataset.sample_from_datasets([train_hotdogs, train_nothotdogs], [0.5, 0.5], stop_on_empty_dataset=True)\n",
    "\n",
    "train_ds = train_ds.cache().batch(batch_size).prefetch(tf.data.AUTOTUNE)\n",
    "\n",
    "valid_ds = tf.data.Dataset.sample_from_datasets([valid_hotdogs, valid_nothotdogs], [0.5, 0.5], stop_on_empty_dataset=True)\n",
    "\n",
    "valid_ds = valid_ds.cache().batch(batch_size).prefetch(tf.data.AUTOTUNE)"
   ]
  },
  {
   "attachments": {},
   "cell_type": "markdown",
   "metadata": {},
   "source": [
    "NN Implementation"
   ]
  },
  {
   "cell_type": "code",
   "execution_count": 66,
   "metadata": {},
   "outputs": [],
   "source": [
    "data_augmentation = tf.keras.Sequential([\n",
    "    tf.keras.layers.RandomFlip('horizontal'),\n",
    "    tf.keras.layers.RandomRotation(0.2)\n",
    "])"
   ]
  },
  {
   "cell_type": "code",
   "execution_count": 67,
   "metadata": {},
   "outputs": [],
   "source": [
    "random.seed(0)\n",
    "model = models.Sequential()\n",
    "\n",
    "model.add(layers.Rescaling(1./255))\n",
    "model.add(data_augmentation)\n",
    "model.add(layers.Conv2D(64, (3, 3), activation='relu',\n",
    "                        input_shape=(MAX_SIZE, MAX_SIZE, 3)))\n",
    "model.add(layers.MaxPooling2D((2, 2)))\n",
    "model.add(layers.Dropout(0.25))\n",
    "model.add(layers.Conv2D(64, (3, 3), activation='relu',\n",
    "          kernel_regularizer=tf.keras.regularizers.l2(0.01)))\n",
    "model.add(layers.MaxPooling2D((2, 2)))\n",
    "model.add(layers.Dropout(0.25))\n",
    "model.add(layers.Conv2D(32, (3, 3), activation='relu',\n",
    "          kernel_regularizer=tf.keras.regularizers.l2(0.01)))\n",
    "model.add(layers.Flatten())\n",
    "model.add(layers.Dense(128, activation='relu'))\n",
    "model.add(layers.Dropout(0.25))\n",
    "model.add(layers.Dense(1))"
   ]
  },
  {
   "cell_type": "code",
   "execution_count": 68,
   "metadata": {},
   "outputs": [],
   "source": [
    "lr = 0.0001\n",
    "\n",
    "model.compile(optimizer=tf.keras.optimizers.Adam(learning_rate=lr),\n",
    "              loss=tf.keras.losses.BinaryCrossentropy(from_logits=True),\n",
    "              metrics=['accuracy'])"
   ]
  },
  {
   "cell_type": "code",
   "execution_count": 69,
   "metadata": {},
   "outputs": [
    {
     "name": "stdout",
     "output_type": "stream",
     "text": [
      "Epoch 1/5\n",
      "275/275 [==============================] - 733s 3s/step - loss: 1.4372 - accuracy: 0.4892 - val_loss: 1.1708 - val_accuracy: 0.5120\n",
      "Epoch 2/5\n",
      "275/275 [==============================] - 174s 630ms/step - loss: 1.0187 - accuracy: 0.4917 - val_loss: 0.9077 - val_accuracy: 0.5205\n",
      "Epoch 3/5\n",
      "275/275 [==============================] - 172s 625ms/step - loss: 0.8438 - accuracy: 0.5163 - val_loss: 0.7952 - val_accuracy: 0.5986\n",
      "Epoch 4/5\n",
      "275/275 [==============================] - 161s 587ms/step - loss: 0.7684 - accuracy: 0.5277 - val_loss: 0.7456 - val_accuracy: 0.6025\n",
      "Epoch 5/5\n",
      "275/275 [==============================] - 176s 639ms/step - loss: 0.7329 - accuracy: 0.5365 - val_loss: 0.7195 - val_accuracy: 0.6129\n"
     ]
    }
   ],
   "source": [
    "epochs = 5\n",
    "history = model.fit(\n",
    "    train_ds,\n",
    "    validation_data=valid_ds,\n",
    "    epochs=epochs,\n",
    "    verbose=1\n",
    ")"
   ]
  }
 ],
 "metadata": {
  "kernelspec": {
   "display_name": "Python 3",
   "language": "python",
   "name": "python3"
  },
  "language_info": {
   "codemirror_mode": {
    "name": "ipython",
    "version": 3
   },
   "file_extension": ".py",
   "mimetype": "text/x-python",
   "name": "python",
   "nbconvert_exporter": "python",
   "pygments_lexer": "ipython3",
   "version": "3.11.0"
  },
  "orig_nbformat": 4
 },
 "nbformat": 4,
 "nbformat_minor": 2
}
